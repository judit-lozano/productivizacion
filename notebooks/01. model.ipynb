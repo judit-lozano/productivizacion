{
 "cells": [
  {
   "cell_type": "markdown",
   "id": "944a98fc-8260-4589-bac6-1028449d68be",
   "metadata": {},
   "source": [
    "Author: Judit Lozano Gondolbeu"
   ]
  },
  {
   "cell_type": "markdown",
   "id": "7e963a68-87fd-404b-80af-75cdb8a9476e",
   "metadata": {},
   "source": [
    "# Productivización de un modelo de análisis de siniestralidad\n",
    "### Introducción"
   ]
  },
  {
   "cell_type": "markdown",
   "id": "a2c6fd9f-c8ef-48ac-a79a-e918bed43502",
   "metadata": {},
   "source": [
    "La parte final del ciclo de un proyecto de ciencia de datos es la productivización, monitorización del modelo, evaluación y toma de decisiones con respecto a la efectividad ese modelo.  \n",
    "\n",
    "En esta práctica, continuaremos el ciclo de un proyecto de ciencia de datos a partir de la práctica_1, donde tras realizar un análisis exploratorio de los datos, procesado y estudio de varios modelos en base a unas métricas concretas, decidimos que el modelo que más se ajustaba a los criterios de selección para el objetivo que estabamos buscando, determinar si dado un accidente habrá o no habrá algún fallecido, era el LGBMClassifier().\n",
    "\n",
    "Como parte de esta práctica, generaremos de nuevo el modelo para poder ejecutar y practicar con otras herramientas de python que permiten que el código esté más recogido y sea más eficiente a la hora de productivizar, por ejemplo, gracias a los métodos con pipelines.\n",
    "\n",
    "## Generando el modelo de Machine Learning\n",
    "\n",
    "Cargamos las librerias necesarias"
   ]
  },
  {
   "cell_type": "markdown",
   "id": "08940527",
   "metadata": {},
   "source": [
    "### Libraries"
   ]
  },
  {
   "cell_type": "code",
   "execution_count": 10,
   "id": "85b6aac9",
   "metadata": {},
   "outputs": [],
   "source": [
    "import pandas as pd\n",
    "import numpy as np\n",
    "import seaborn as sns\n",
    "from sklearn.model_selection import train_test_split, GridSearchCV\n",
    "from collections import Counter\n",
    "from sklearn.preprocessing import StandardScaler\n",
    "from sklearn.pipeline import Pipeline\n",
    "from sklearn.compose import ColumnTransformer\n",
    "import warnings\n",
    "import pickle\n",
    "import category_encoders as ce\n",
    "from sklearn.linear_model import LogisticRegression\n",
    "from sklearn.model_selection import cross_val_score\n",
    "from sklearn.model_selection import RepeatedStratifiedKFold\n",
    "from imblearn.pipeline import Pipeline\n",
    "from imblearn.over_sampling import SMOTE\n",
    "from imblearn.under_sampling import RandomUnderSampler\n",
    "from numpy import mean\n",
    "import lightgbm as lgbm\n",
    "from sklearn.feature_selection import SelectFromModel\n",
    "from matplotlib import pyplot as plt\n",
    "from sklearn.metrics import roc_auc_score, ConfusionMatrixDisplay, roc_curve, precision_recall_curve,\\\n",
    "                             classification_report,  accuracy_score, f1_score, recall_score, precision_score, confusion_matrix\n",
    "from sklearn.model_selection import GridSearchCV\n",
    "from sklearn.model_selection import cross_val_score\n",
    "\n",
    "warnings.filterwarnings(\"ignore\")\n",
    "\n",
    "pd.set_option('display.max_columns', 500)\n",
    "pd.set_option('display.max_rows', 5000)"
   ]
  },
  {
   "cell_type": "markdown",
   "id": "cf7ad9f3-3323-4193-b79e-80bc732c1acc",
   "metadata": {},
   "source": [
    "### Funciones que vamos a utilizar"
   ]
  },
  {
   "cell_type": "code",
   "execution_count": 14,
   "id": "88c5808d-980b-439f-b39f-c12e88c27f61",
   "metadata": {},
   "outputs": [],
   "source": [
    "def evaluate_model(y_test, y_pred, y_pred_proba = None):\n",
    "    if y_pred_proba is not None:\n",
    "        print('ROC-AUC score of the model: {}'.format(roc_auc_score(y_test, y_pred_proba[:, 1])))\n",
    "    print('Accuracy of the model: {}\\n'.format(accuracy_score(y_test, y_pred)))\n",
    "    print('Classification report: \\n{}\\n'.format(classification_report(y_test, y_pred)))\n",
    "    print('Confusion matrix: \\n{}\\n'.format(confusion_matrix(y_test, y_pred)))"
   ]
  },
  {
   "cell_type": "markdown",
   "id": "2a5080d8-3ae4-42f9-a938-c243e47ef0e5",
   "metadata": {},
   "source": [
    "### Cargamos los Datos"
   ]
  },
  {
   "cell_type": "code",
   "execution_count": 11,
   "id": "b5381d1a",
   "metadata": {},
   "outputs": [
    {
     "data": {
      "text/html": [
       "<div>\n",
       "<style scoped>\n",
       "    .dataframe tbody tr th:only-of-type {\n",
       "        vertical-align: middle;\n",
       "    }\n",
       "\n",
       "    .dataframe tbody tr th {\n",
       "        vertical-align: top;\n",
       "    }\n",
       "\n",
       "    .dataframe thead th {\n",
       "        text-align: right;\n",
       "    }\n",
       "</style>\n",
       "<table border=\"1\" class=\"dataframe\">\n",
       "  <thead>\n",
       "    <tr style=\"text-align: right;\">\n",
       "      <th></th>\n",
       "      <th>C_MNTH</th>\n",
       "      <th>C_WDAY</th>\n",
       "      <th>C_HOUR</th>\n",
       "      <th>C_RCFG</th>\n",
       "      <th>C_WTHR</th>\n",
       "      <th>C_RSUR</th>\n",
       "      <th>C_RALN</th>\n",
       "      <th>C_TRAF</th>\n",
       "      <th>V_TYPE</th>\n",
       "      <th>P_SAFE</th>\n",
       "      <th>V_YEAR</th>\n",
       "      <th>C_YEAR</th>\n",
       "      <th>P_AGE</th>\n",
       "      <th>P_SEX</th>\n",
       "      <th>PP_CAR</th>\n",
       "      <th>TARGET</th>\n",
       "    </tr>\n",
       "  </thead>\n",
       "  <tbody>\n",
       "    <tr>\n",
       "      <th>0</th>\n",
       "      <td>1</td>\n",
       "      <td>1</td>\n",
       "      <td>20</td>\n",
       "      <td>50</td>\n",
       "      <td>1</td>\n",
       "      <td>5</td>\n",
       "      <td>3</td>\n",
       "      <td>3</td>\n",
       "      <td>6</td>\n",
       "      <td>50</td>\n",
       "      <td>1990</td>\n",
       "      <td>1999</td>\n",
       "      <td>41</td>\n",
       "      <td>0</td>\n",
       "      <td>1</td>\n",
       "      <td>0</td>\n",
       "    </tr>\n",
       "    <tr>\n",
       "      <th>1</th>\n",
       "      <td>1</td>\n",
       "      <td>1</td>\n",
       "      <td>20</td>\n",
       "      <td>50</td>\n",
       "      <td>1</td>\n",
       "      <td>5</td>\n",
       "      <td>3</td>\n",
       "      <td>3</td>\n",
       "      <td>1</td>\n",
       "      <td>50</td>\n",
       "      <td>1987</td>\n",
       "      <td>1999</td>\n",
       "      <td>19</td>\n",
       "      <td>0</td>\n",
       "      <td>2</td>\n",
       "      <td>0</td>\n",
       "    </tr>\n",
       "    <tr>\n",
       "      <th>2</th>\n",
       "      <td>1</td>\n",
       "      <td>1</td>\n",
       "      <td>8</td>\n",
       "      <td>50</td>\n",
       "      <td>5</td>\n",
       "      <td>3</td>\n",
       "      <td>6</td>\n",
       "      <td>18</td>\n",
       "      <td>1</td>\n",
       "      <td>50</td>\n",
       "      <td>1986</td>\n",
       "      <td>1999</td>\n",
       "      <td>46</td>\n",
       "      <td>0</td>\n",
       "      <td>1</td>\n",
       "      <td>0</td>\n",
       "    </tr>\n",
       "    <tr>\n",
       "      <th>3</th>\n",
       "      <td>1</td>\n",
       "      <td>1</td>\n",
       "      <td>17</td>\n",
       "      <td>56</td>\n",
       "      <td>1</td>\n",
       "      <td>2</td>\n",
       "      <td>1</td>\n",
       "      <td>1</td>\n",
       "      <td>1</td>\n",
       "      <td>50</td>\n",
       "      <td>1984</td>\n",
       "      <td>1999</td>\n",
       "      <td>28</td>\n",
       "      <td>0</td>\n",
       "      <td>1</td>\n",
       "      <td>0</td>\n",
       "    </tr>\n",
       "    <tr>\n",
       "      <th>4</th>\n",
       "      <td>1</td>\n",
       "      <td>1</td>\n",
       "      <td>17</td>\n",
       "      <td>56</td>\n",
       "      <td>1</td>\n",
       "      <td>2</td>\n",
       "      <td>1</td>\n",
       "      <td>1</td>\n",
       "      <td>1</td>\n",
       "      <td>50</td>\n",
       "      <td>1991</td>\n",
       "      <td>1999</td>\n",
       "      <td>21</td>\n",
       "      <td>0</td>\n",
       "      <td>2</td>\n",
       "      <td>0</td>\n",
       "    </tr>\n",
       "  </tbody>\n",
       "</table>\n",
       "</div>"
      ],
      "text/plain": [
       "   C_MNTH  C_WDAY  C_HOUR  C_RCFG  C_WTHR  C_RSUR  C_RALN  C_TRAF  V_TYPE  \\\n",
       "0       1       1      20      50       1       5       3       3       6   \n",
       "1       1       1      20      50       1       5       3       3       1   \n",
       "2       1       1       8      50       5       3       6      18       1   \n",
       "3       1       1      17      56       1       2       1       1       1   \n",
       "4       1       1      17      56       1       2       1       1       1   \n",
       "\n",
       "   P_SAFE  V_YEAR  C_YEAR  P_AGE  P_SEX  PP_CAR  TARGET  \n",
       "0      50    1990    1999     41      0       1       0  \n",
       "1      50    1987    1999     19      0       2       0  \n",
       "2      50    1986    1999     46      0       1       0  \n",
       "3      50    1984    1999     28      0       1       0  \n",
       "4      50    1991    1999     21      0       2       0  "
      ]
     },
     "execution_count": 11,
     "metadata": {},
     "output_type": "execute_result"
    }
   ],
   "source": [
    "#Leemos nuestra tabla de nuevo\n",
    "df_data = pd.read_csv('df_data.csv')\n",
    "df_data.head()"
   ]
  },
  {
   "cell_type": "code",
   "execution_count": 12,
   "id": "82af7fc7-57ec-4175-9309-39b1b241d42b",
   "metadata": {},
   "outputs": [
    {
     "data": {
      "text/html": [
       "<div>\n",
       "<style scoped>\n",
       "    .dataframe tbody tr th:only-of-type {\n",
       "        vertical-align: middle;\n",
       "    }\n",
       "\n",
       "    .dataframe tbody tr th {\n",
       "        vertical-align: top;\n",
       "    }\n",
       "\n",
       "    .dataframe thead th {\n",
       "        text-align: right;\n",
       "    }\n",
       "</style>\n",
       "<table border=\"1\" class=\"dataframe\">\n",
       "  <thead>\n",
       "    <tr style=\"text-align: right;\">\n",
       "      <th></th>\n",
       "      <th>C_MNTH</th>\n",
       "      <th>C_WDAY</th>\n",
       "      <th>C_HOUR</th>\n",
       "      <th>C_RCFG</th>\n",
       "      <th>C_WTHR</th>\n",
       "      <th>C_RSUR</th>\n",
       "      <th>C_RALN</th>\n",
       "      <th>C_TRAF</th>\n",
       "      <th>V_TYPE</th>\n",
       "      <th>P_SAFE</th>\n",
       "      <th>V_YEAR</th>\n",
       "      <th>P_AGE</th>\n",
       "      <th>P_SEX</th>\n",
       "      <th>PP_CAR</th>\n",
       "      <th>TARGET</th>\n",
       "    </tr>\n",
       "  </thead>\n",
       "  <tbody>\n",
       "    <tr>\n",
       "      <th>0</th>\n",
       "      <td>1</td>\n",
       "      <td>1</td>\n",
       "      <td>20</td>\n",
       "      <td>50</td>\n",
       "      <td>1</td>\n",
       "      <td>5</td>\n",
       "      <td>3</td>\n",
       "      <td>3</td>\n",
       "      <td>6</td>\n",
       "      <td>50</td>\n",
       "      <td>1990</td>\n",
       "      <td>41</td>\n",
       "      <td>0</td>\n",
       "      <td>1</td>\n",
       "      <td>0</td>\n",
       "    </tr>\n",
       "    <tr>\n",
       "      <th>1</th>\n",
       "      <td>1</td>\n",
       "      <td>1</td>\n",
       "      <td>20</td>\n",
       "      <td>50</td>\n",
       "      <td>1</td>\n",
       "      <td>5</td>\n",
       "      <td>3</td>\n",
       "      <td>3</td>\n",
       "      <td>1</td>\n",
       "      <td>50</td>\n",
       "      <td>1987</td>\n",
       "      <td>19</td>\n",
       "      <td>0</td>\n",
       "      <td>2</td>\n",
       "      <td>0</td>\n",
       "    </tr>\n",
       "    <tr>\n",
       "      <th>2</th>\n",
       "      <td>1</td>\n",
       "      <td>1</td>\n",
       "      <td>8</td>\n",
       "      <td>50</td>\n",
       "      <td>5</td>\n",
       "      <td>3</td>\n",
       "      <td>6</td>\n",
       "      <td>18</td>\n",
       "      <td>1</td>\n",
       "      <td>50</td>\n",
       "      <td>1986</td>\n",
       "      <td>46</td>\n",
       "      <td>0</td>\n",
       "      <td>1</td>\n",
       "      <td>0</td>\n",
       "    </tr>\n",
       "    <tr>\n",
       "      <th>3</th>\n",
       "      <td>1</td>\n",
       "      <td>1</td>\n",
       "      <td>17</td>\n",
       "      <td>56</td>\n",
       "      <td>1</td>\n",
       "      <td>2</td>\n",
       "      <td>1</td>\n",
       "      <td>1</td>\n",
       "      <td>1</td>\n",
       "      <td>50</td>\n",
       "      <td>1984</td>\n",
       "      <td>28</td>\n",
       "      <td>0</td>\n",
       "      <td>1</td>\n",
       "      <td>0</td>\n",
       "    </tr>\n",
       "    <tr>\n",
       "      <th>4</th>\n",
       "      <td>1</td>\n",
       "      <td>1</td>\n",
       "      <td>17</td>\n",
       "      <td>56</td>\n",
       "      <td>1</td>\n",
       "      <td>2</td>\n",
       "      <td>1</td>\n",
       "      <td>1</td>\n",
       "      <td>1</td>\n",
       "      <td>50</td>\n",
       "      <td>1991</td>\n",
       "      <td>21</td>\n",
       "      <td>0</td>\n",
       "      <td>2</td>\n",
       "      <td>0</td>\n",
       "    </tr>\n",
       "  </tbody>\n",
       "</table>\n",
       "</div>"
      ],
      "text/plain": [
       "   C_MNTH  C_WDAY  C_HOUR  C_RCFG  C_WTHR  C_RSUR  C_RALN  C_TRAF  V_TYPE  \\\n",
       "0       1       1      20      50       1       5       3       3       6   \n",
       "1       1       1      20      50       1       5       3       3       1   \n",
       "2       1       1       8      50       5       3       6      18       1   \n",
       "3       1       1      17      56       1       2       1       1       1   \n",
       "4       1       1      17      56       1       2       1       1       1   \n",
       "\n",
       "   P_SAFE  V_YEAR  P_AGE  P_SEX  PP_CAR  TARGET  \n",
       "0      50    1990     41      0       1       0  \n",
       "1      50    1987     19      0       2       0  \n",
       "2      50    1986     46      0       1       0  \n",
       "3      50    1984     28      0       1       0  \n",
       "4      50    1991     21      0       2       0  "
      ]
     },
     "execution_count": 12,
     "metadata": {},
     "output_type": "execute_result"
    }
   ],
   "source": [
    "#quitamos la variable C_YEAR no disponible en el momento de hacer la predicción\n",
    "\n",
    "df_data = df_data.drop('C_YEAR', axis=1)\n",
    "df_data.head()"
   ]
  },
  {
   "cell_type": "markdown",
   "id": "bf9c180e-38ec-4504-b8ce-e7a02dbc635e",
   "metadata": {},
   "source": [
    "### Codificación de las variables\n",
    "Applicaremos la siguiente codificación según grupo de variables:"
   ]
  },
  {
   "cell_type": "code",
   "execution_count": 13,
   "id": "0c61da22-e2d6-4040-9a69-9bf9220d42f3",
   "metadata": {},
   "outputs": [],
   "source": [
    "#Grupos por encoding a realizar\n",
    "numeric_features = ['V_YEAR', 'P_AGE']  \n",
    "cat_features = list(set(df_data.drop('TARGET', axis=1).columns)-set(numeric_features))"
   ]
  },
  {
   "cell_type": "code",
   "execution_count": 14,
   "id": "98b50bbc-f3f7-45b8-9d77-00591e85099c",
   "metadata": {},
   "outputs": [],
   "source": [
    "df_data[cat_features] = df_data[cat_features].astype(object)"
   ]
  },
  {
   "cell_type": "code",
   "execution_count": 15,
   "id": "bed30efb-6f6b-4ad4-8575-74e8cbd00eb2",
   "metadata": {},
   "outputs": [
    {
     "data": {
      "text/plain": [
       "C_MNTH    object\n",
       "C_WDAY    object\n",
       "C_HOUR    object\n",
       "C_RCFG    object\n",
       "C_WTHR    object\n",
       "C_RSUR    object\n",
       "C_RALN    object\n",
       "C_TRAF    object\n",
       "V_TYPE    object\n",
       "P_SAFE    object\n",
       "V_YEAR     int64\n",
       "P_AGE      int64\n",
       "P_SEX     object\n",
       "PP_CAR    object\n",
       "TARGET     int64\n",
       "dtype: object"
      ]
     },
     "execution_count": 15,
     "metadata": {},
     "output_type": "execute_result"
    }
   ],
   "source": [
    "df_data.dtypes"
   ]
  },
  {
   "cell_type": "markdown",
   "id": "b09d9d57-1d57-426f-8e21-8e3dba526563",
   "metadata": {},
   "source": [
    "### Vemos los datos únicos"
   ]
  },
  {
   "cell_type": "code",
   "execution_count": 16,
   "id": "df2eb9bc-9f77-4e6b-9ed5-abe703a12a87",
   "metadata": {},
   "outputs": [
    {
     "name": "stdout",
     "output_type": "stream",
     "text": [
      "C_MNTH [1 2 3 4 5 6 7 8 9 10 11 12 50]\n",
      "C_WDAY [1 2 3 4 5 6 7 52]\n",
      "C_HOUR [20 8 17 15 14 1 11 13 19 16 9 2 18 12 10 23 0 6 7 21 50 5 22 3 4]\n",
      "C_RCFG [50 56 1 2 3 5 4 6 8 7 9 10]\n",
      "C_WTHR [1 5 3 4 7 2 52 6 55]\n",
      "C_RSUR [5 3 2 4 1 6 52 55 7 9 8]\n",
      "C_RALN [3 6 1 52 2 5 4 55]\n",
      "C_TRAF [3 18 1 50 6 10 5 4 11 56 7 8 16 17 2 13 15 9 12]\n",
      "V_TYPE [6 1 11 50 20 17 7 8 56 9 22 14 23 5 16 18 19 54 10 21]\n",
      "P_SAFE [50 2 1 13 54 12 9 56 10 11]\n",
      "V_YEAR [1990 1987 1986 1984 1991 1992 1997 1993 1985 1988 1994 1995 1998 1989\n",
      " 2100 1996 1983 1999 1965 1977 1978 2102 1968 1981 1979 1976 1972 2000\n",
      " 1982 1975 1973 1974 1980 1967 1970 1971 1962 1969 1966 1945 1963 1960\n",
      " 1950 1964 1959 1955 1958 1903 1909 1949 1923 1961 1914 1908 1953 1906\n",
      " 1939 1925 1948 1938 1907 1952 1904 1917 1912 1944 1956 1930 1931 1951\n",
      " 1946 1947 1957 1954 1943 1901 1937 1905 1935 1926 1941 1932 1920 1933\n",
      " 1919 1915 1929 1928 2001 1913 1940 1927 2002 1916 1942 1918 2003 1924\n",
      " 1922 1934 2004 2005 2006 2007 2008 1911 2009 2010 2011 1936 2012 1910\n",
      " 1921 2013 2014 2015]\n",
      "P_AGE [ 41  19  46  28  21 150  61  34  22  30  49  32  31  68  45  17  33  82\n",
      "  37  55  43  35  23  25  65  44  36  70  50  27  39  15  53  16  26  77\n",
      "  86  42  24  47  20  62  18  38  57  83  51  29  54  71  79  58  67  48\n",
      "  60  64  75  52  85  40  69  74  59  56  76  66  80  78   9  72  73  84\n",
      "  63  81  89  87  90  11  93  88  14   5  10   6   1  95  91  12  13   2\n",
      "   7  92   8   4  98  94  96  99   3  97 152]\n",
      "P_SEX [0 1 8 9]\n",
      "PP_CAR [1 2 3]\n",
      "TARGET [0 1]\n"
     ]
    }
   ],
   "source": [
    "for col in df_data:\n",
    "    print(df_data[col].name, df_data[col].unique())"
   ]
  },
  {
   "cell_type": "markdown",
   "id": "a259d492-78cf-442d-bed5-33e6da8320c7",
   "metadata": {
    "tags": []
   },
   "source": [
    "### Dividimos el dataset en train y test\n",
    "Dividimos el dataset en train y test manteniendo la proporción de la variable objetivo en las dos partes (separación estratificada)"
   ]
  },
  {
   "cell_type": "code",
   "execution_count": 17,
   "id": "33089820-ba36-4c34-8d60-08f04b89fb73",
   "metadata": {},
   "outputs": [],
   "source": [
    "#Definimos train y target\n",
    "target = df_data[['TARGET']]\n",
    "train = df_data.drop('TARGET', axis = 1)"
   ]
  },
  {
   "cell_type": "code",
   "execution_count": 18,
   "id": "57c286df-f9e2-44c4-98f6-49c785df11a2",
   "metadata": {},
   "outputs": [
    {
     "data": {
      "text/plain": [
       "Index(['C_MNTH', 'C_WDAY', 'C_HOUR', 'C_RCFG', 'C_WTHR', 'C_RSUR', 'C_RALN',\n",
       "       'C_TRAF', 'V_TYPE', 'P_SAFE', 'V_YEAR', 'P_AGE', 'P_SEX', 'PP_CAR'],\n",
       "      dtype='object')"
      ]
     },
     "execution_count": 18,
     "metadata": {},
     "output_type": "execute_result"
    }
   ],
   "source": [
    "all_features = train.columns\n",
    "all_features"
   ]
  },
  {
   "cell_type": "code",
   "execution_count": 19,
   "id": "b8f1477e-0ccc-4728-8d8f-bd23786dbb59",
   "metadata": {},
   "outputs": [
    {
     "name": "stdout",
     "output_type": "stream",
     "text": [
      "TARGET\n",
      "0         0.985431\n",
      "1         0.014569\n",
      "dtype: float64\n",
      "TARGET\n",
      "0         0.985432\n",
      "1         0.014568\n",
      "dtype: float64\n"
     ]
    }
   ],
   "source": [
    "X_train, X_test, y_train, y_test = train_test_split(train, target, stratify=target, shuffle=True, test_size=0.20, random_state=0)\n",
    "#comprobación de la estratificación\n",
    "print(y_train.value_counts(normalize=True))\n",
    "print(y_test.value_counts(normalize=True))"
   ]
  },
  {
   "cell_type": "markdown",
   "id": "32553c06-c8c1-4528-ada9-e9e87c6533a1",
   "metadata": {},
   "source": [
    "### Preparación de los pasos para la utilización de la Pipeline_1: Con datos desbalanceados"
   ]
  },
  {
   "cell_type": "code",
   "execution_count": 10,
   "id": "2e2bac72-b9d0-4654-af8b-8d2c9dec26bb",
   "metadata": {},
   "outputs": [],
   "source": [
    "#1st Transformer\n",
    "trf1 = ColumnTransformer([\n",
    "        ('catboost',ce.CatBoostEncoder(),cat_features)])"
   ]
  },
  {
   "cell_type": "code",
   "execution_count": 11,
   "id": "a5b1838a-1d88-417b-a4c5-8a66217d0562",
   "metadata": {},
   "outputs": [],
   "source": [
    "#2nd Transformer: Scaling\n",
    "trf2 = ColumnTransformer([('scaler', StandardScaler(),slice(0,len(X_train.columns)))\n",
    "                         ])"
   ]
  },
  {
   "cell_type": "code",
   "execution_count": 12,
   "id": "c2711129-0d10-43ab-81e6-2f759d539b64",
   "metadata": {},
   "outputs": [],
   "source": [
    "#5th Model\n",
    "trf3 = lgbm.LGBMClassifier()"
   ]
  },
  {
   "cell_type": "code",
   "execution_count": 13,
   "id": "efc65722-9fe7-45a0-9932-02dcc97ddeec",
   "metadata": {},
   "outputs": [
    {
     "data": {
      "text/plain": [
       "Pipeline(steps=[('trf1',\n",
       "                 ColumnTransformer(transformers=[('catboost', CatBoostEncoder(),\n",
       "                                                  ['P_SAFE', 'C_TRAF', 'C_RCFG',\n",
       "                                                   'V_TYPE', 'P_SEX', 'C_RALN',\n",
       "                                                   'C_MNTH', 'C_RSUR', 'PP_CAR',\n",
       "                                                   'C_HOUR', 'C_WDAY',\n",
       "                                                   'C_WTHR'])])),\n",
       "                ('trf2',\n",
       "                 ColumnTransformer(transformers=[('scaler', StandardScaler(),\n",
       "                                                  slice(0, 14, None))])),\n",
       "                ('trf3', LGBMClassifier())])"
      ]
     },
     "execution_count": 13,
     "metadata": {},
     "output_type": "execute_result"
    }
   ],
   "source": [
    "pipe = Pipeline([\n",
    "    ('trf1', trf1),\n",
    "    ('trf2', trf2),\n",
    "    ('trf3', trf3)\n",
    "])\n",
    "\n",
    "pipe.fit(X_train, y_train)"
   ]
  },
  {
   "cell_type": "code",
   "execution_count": 15,
   "id": "94e76e50-f32f-4aaf-9cce-6bbb5bdc15e7",
   "metadata": {},
   "outputs": [
    {
     "name": "stdout",
     "output_type": "stream",
     "text": [
      "ROC-AUC score of the model: 0.8073576013533662\n",
      "Accuracy of the model: 0.9854499005371756\n",
      "\n",
      "Classification report: \n",
      "              precision    recall  f1-score   support\n",
      "\n",
      "           0       0.99      1.00      0.99    773779\n",
      "           1       0.64      0.00      0.01     11439\n",
      "\n",
      "    accuracy                           0.99    785218\n",
      "   macro avg       0.81      0.50      0.50    785218\n",
      "weighted avg       0.98      0.99      0.98    785218\n",
      "\n",
      "\n",
      "Confusion matrix: \n",
      "[[773761     18]\n",
      " [ 11407     32]]\n",
      "\n"
     ]
    }
   ],
   "source": [
    "lgb_pred = pipe.predict(X_test)\n",
    "lgb_pred_proba = pipe.predict_proba(X_test)\n",
    "evaluate_model(y_test, lgb_pred, lgb_pred_proba)"
   ]
  },
  {
   "cell_type": "markdown",
   "id": "a9263d9b-02e5-4387-9b69-1d5f7d6b60e2",
   "metadata": {},
   "source": [
    "Se observa como el modelo no predice casi ningún caso positivo ya que no tiene suficientes datos para aprender y poder ser efectivo detectando siniestralidades."
   ]
  },
  {
   "cell_type": "markdown",
   "id": "4f79bcec-4f2b-4222-8520-1227e18eb8ca",
   "metadata": {},
   "source": [
    "### Problema de desbalanceo de datos"
   ]
  },
  {
   "cell_type": "markdown",
   "id": "dd704596-cb54-466b-9575-055ed16f01be",
   "metadata": {},
   "source": [
    "Para solventar este problema probaremos con la técnica SMOTE."
   ]
  },
  {
   "cell_type": "markdown",
   "id": "61abe7f7-d5ff-474d-8a37-f1e3912f7e0f",
   "metadata": {},
   "source": [
    "### SMOTE\n",
    "SMOTE realiza un oversample de la clase minoritaria segun la configuracion que le demos (Ej: strategy, k-values). Por defecto, el K-value es 5 pero en este caso usaremos un k-value = 6 como ya discutimos en la practica_1. "
   ]
  },
  {
   "cell_type": "code",
   "execution_count": 16,
   "id": "b19646a3-64ec-4c71-a6c2-2f9af0c36d2d",
   "metadata": {},
   "outputs": [
    {
     "data": {
      "text/plain": [
       "Pipeline(steps=[('trf1',\n",
       "                 ColumnTransformer(transformers=[('catboost', CatBoostEncoder(),\n",
       "                                                  ['P_SAFE', 'C_TRAF', 'C_RCFG',\n",
       "                                                   'V_TYPE', 'P_SEX', 'C_RALN',\n",
       "                                                   'C_MNTH', 'C_RSUR', 'PP_CAR',\n",
       "                                                   'C_HOUR', 'C_WDAY',\n",
       "                                                   'C_WTHR'])])),\n",
       "                ('trf2',\n",
       "                 ColumnTransformer(transformers=[('scaler', StandardScaler(),\n",
       "                                                  slice(0, 14, None))])),\n",
       "                ('over', SMOTE(k_neighbors=6, sampling_strategy=0.1)),\n",
       "                ('under', RandomUnderSampler(sampling_strategy=0.2)),\n",
       "                ('trf3', LGBMClassifier())])"
      ]
     },
     "execution_count": 16,
     "metadata": {},
     "output_type": "execute_result"
    }
   ],
   "source": [
    "over = SMOTE(sampling_strategy=0.1, k_neighbors=6)\n",
    "under = RandomUnderSampler(sampling_strategy=0.2)\n",
    "steps = [('trf1', trf1),('trf2', trf2), \n",
    "         ('over', over), ('under', under), ('trf3', trf3)]\n",
    "modelo = Pipeline(steps=steps)\n",
    "modelo.fit(X_train, y_train)"
   ]
  },
  {
   "cell_type": "code",
   "execution_count": 17,
   "id": "14b2bf1a-8d38-49c1-8b45-856cb27a448e",
   "metadata": {},
   "outputs": [
    {
     "name": "stdout",
     "output_type": "stream",
     "text": [
      "ROC-AUC score of the model: 0.7720505280344286\n",
      "Accuracy of the model: 0.9750986350287436\n",
      "\n",
      "Classification report: \n",
      "              precision    recall  f1-score   support\n",
      "\n",
      "           0       0.99      0.99      0.99    773779\n",
      "           1       0.12      0.11      0.11     11439\n",
      "\n",
      "    accuracy                           0.98    785218\n",
      "   macro avg       0.55      0.55      0.55    785218\n",
      "weighted avg       0.97      0.98      0.97    785218\n",
      "\n",
      "\n",
      "Confusion matrix: \n",
      "[[764412   9367]\n",
      " [ 10186   1253]]\n",
      "\n"
     ]
    }
   ],
   "source": [
    "lgb_pred = modelo.predict(X_test)\n",
    "lgb_pred_proba = modelo.predict_proba(X_test)\n",
    "evaluate_model(y_test, lgb_pred, lgb_pred_proba)"
   ]
  },
  {
   "cell_type": "markdown",
   "id": "3dee5fcd-594c-439b-ae8b-c0a1b6917781",
   "metadata": {},
   "source": [
    "En este caso, se observa como el modelo ya predice un mayor número de casos positivos sin optimizar el modelo y aplicando sólo la técnica de sintetizado SMOTE combinadola con un ligero undersampling. Aunque también se observa que el modelo se equivoca más, en este proyecto el coste de equivocarse en los casos positivos no lo vamos a penalizar ya que nos interesa que el modelo sea capaz de captar el suficiente numero de siniestralidades para cubrir aquellos casos positivos que no se han detectado. "
   ]
  },
  {
   "cell_type": "markdown",
   "id": "16d7a409-48a8-4d82-859e-71669fb3bdc5",
   "metadata": {},
   "source": [
    "### Regularización Ridge: Reducción de la dimensionalidad\n",
    "\n",
    "Para evitar problemas de tiempo en la ejecución de los modelos debido al tamaño del dataset, procederemos a reducir la dimensionalidad de nuestro dataset en cuanto a las variables del mismo:"
   ]
  },
  {
   "cell_type": "code",
   "execution_count": 18,
   "id": "2052ab49-1800-4058-ae4c-0078132cfd04",
   "metadata": {},
   "outputs": [
    {
     "data": {
      "image/png": "[encoded data removed]",
      "text/plain": [
       "<Figure size 1152x276.48 with 1 Axes>"
      ]
     },
     "metadata": {
      "needs_background": "light"
     },
     "output_type": "display_data"
    }
   ],
   "source": [
    "sel_ridge = SelectFromModel(LogisticRegression(C=1, penalty='l2'), threshold = 0.01)\n",
    "steps = [('trf1', trf1),('trf2', trf2), \n",
    "         ('over', over), ('under', under), ('sel_ridge', sel_ridge)]\n",
    "modelo = Pipeline(steps=steps)\n",
    "modelo.fit(X_train, y_train)\n",
    "\n",
    "\n",
    "\n",
    "sel_ridge.fit(X_train, y_train)\n",
    "# Coeficientes del modelo\n",
    "# ==============================================================================\n",
    "df_coeficientes = pd.DataFrame(\n",
    "                        {'predictor': X_train.columns,\n",
    "                         'coef': sel_ridge.estimator_.coef_.flatten()}\n",
    "                  )\n",
    "\n",
    "fig, ax = plt.subplots(figsize=(16, 3.84))\n",
    "ax.stem(df_coeficientes.predictor, df_coeficientes.coef, markerfmt=' ')\n",
    "plt.xticks(rotation=90, ha='right', size=10)\n",
    "ax.set_xlabel('variable')\n",
    "ax.set_ylabel('coeficientes')\n",
    "ax.set_title('Coeficientes del modelo ridge');"
   ]
  },
  {
   "cell_type": "code",
   "execution_count": 19,
   "id": "04d35bea-39c0-4ed6-8a43-6a0aa39d4fc8",
   "metadata": {},
   "outputs": [],
   "source": [
    "sel_ridge.get_support()\n",
    "selected_feat = X_train.columns[sel_ridge.get_support()]"
   ]
  },
  {
   "cell_type": "code",
   "execution_count": 20,
   "id": "02e294c9-5f9e-49a0-b1e5-50608f54ad2c",
   "metadata": {},
   "outputs": [
    {
     "data": {
      "text/plain": [
       "Index(['C_MNTH', 'C_WDAY', 'C_HOUR', 'C_WTHR', 'C_RALN', 'C_TRAF', 'V_TYPE',\n",
       "       'P_SEX', 'PP_CAR'],\n",
       "      dtype='object')"
      ]
     },
     "execution_count": 20,
     "metadata": {},
     "output_type": "execute_result"
    }
   ],
   "source": [
    "selected_feat"
   ]
  },
  {
   "cell_type": "code",
   "execution_count": 21,
   "id": "b5bade53-42c5-4fdf-aeca-6e6d059d63c7",
   "metadata": {},
   "outputs": [
    {
     "name": "stdout",
     "output_type": "stream",
     "text": [
      "total features: 14\n",
      "selected features: 9\n"
     ]
    }
   ],
   "source": [
    "print('total features: {}'.format((X_train.shape[1])))\n",
    "print('selected features: {}'.format(len(selected_feat)))"
   ]
  },
  {
   "cell_type": "code",
   "execution_count": 22,
   "id": "880d2f5e-c3c2-40e2-be8a-272c3bd10e60",
   "metadata": {},
   "outputs": [
    {
     "data": {
      "text/plain": [
       "['C_MNTH',\n",
       " 'C_WDAY',\n",
       " 'C_HOUR',\n",
       " 'C_WTHR',\n",
       " 'C_RALN',\n",
       " 'C_TRAF',\n",
       " 'V_TYPE',\n",
       " 'P_SEX',\n",
       " 'PP_CAR']"
      ]
     },
     "execution_count": 22,
     "metadata": {},
     "output_type": "execute_result"
    }
   ],
   "source": [
    "selected_feat.tolist()"
   ]
  },
  {
   "cell_type": "code",
   "execution_count": 23,
   "id": "abef3412-2772-4bd9-9f7b-945389db58e1",
   "metadata": {},
   "outputs": [],
   "source": [
    "#Grupos por encoding a realizar con las variables más relevantes según Ridge\n",
    "cat_features = selected_feat.tolist()"
   ]
  },
  {
   "cell_type": "code",
   "execution_count": 24,
   "id": "b615d3c4-ce0f-4277-ae8b-4c758087257f",
   "metadata": {},
   "outputs": [],
   "source": [
    "final_features = cat_features"
   ]
  },
  {
   "cell_type": "code",
   "execution_count": 25,
   "id": "312484d8-c385-4cdb-a2c4-9cff58313c1b",
   "metadata": {},
   "outputs": [],
   "source": [
    "final_X_train = X_train[final_features]"
   ]
  },
  {
   "cell_type": "code",
   "execution_count": 26,
   "id": "567decb1-f00f-4fa9-84ba-dac6619f3d43",
   "metadata": {},
   "outputs": [],
   "source": [
    "X_test = X_test[final_features]"
   ]
  },
  {
   "cell_type": "markdown",
   "id": "35dcfe6c-4327-4d7e-b1e6-0e1eab5efb69",
   "metadata": {},
   "source": [
    "Aplicando el modelo de Ridge, llevaremos a producción el modelo entrenado con las 9 variables seleccionadas por esta técnica de reducción de variables. Esta técnica, tiene un coste de perdida de información y por lo tanto la precisión predictoria del modelo final no será tan buena pero a su vez, el modelo productivizado será más ligero y el coste computacional será menor."
   ]
  },
  {
   "cell_type": "markdown",
   "id": "8267b5c8-ed86-44f3-81bc-5ef144d39bdd",
   "metadata": {},
   "source": [
    "### Entreno del Modelo con la dimensionalidad reducida"
   ]
  },
  {
   "cell_type": "code",
   "execution_count": 27,
   "id": "6d2d22f4-57f6-4450-9493-bcbee1af4651",
   "metadata": {},
   "outputs": [],
   "source": [
    "#1st Transformer\n",
    "trf1 = ColumnTransformer([\n",
    "        ('catboost',ce.CatBoostEncoder(),cat_features)])"
   ]
  },
  {
   "cell_type": "code",
   "execution_count": 28,
   "id": "31177670-d333-4725-941c-b9708b749625",
   "metadata": {},
   "outputs": [],
   "source": [
    "#2nd Transformer: Scaling\n",
    "trf2 = ColumnTransformer([('scaler', StandardScaler(),slice(0,len(X_train.columns)+1))\n",
    "                         ])"
   ]
  },
  {
   "cell_type": "code",
   "execution_count": 29,
   "id": "76679e52-f504-4fd6-b871-4dbb93033eee",
   "metadata": {},
   "outputs": [],
   "source": [
    "#3rd Model\n",
    "trf3 = lgbm.LGBMClassifier()"
   ]
  },
  {
   "cell_type": "code",
   "execution_count": 30,
   "id": "3667d66f-e996-472a-93c6-6154ad871112",
   "metadata": {},
   "outputs": [
    {
     "data": {
      "text/plain": [
       "Pipeline(steps=[('trf1',\n",
       "                 ColumnTransformer(transformers=[('catboost', CatBoostEncoder(),\n",
       "                                                  ['C_MNTH', 'C_WDAY', 'C_HOUR',\n",
       "                                                   'C_WTHR', 'C_RALN', 'C_TRAF',\n",
       "                                                   'V_TYPE', 'P_SEX',\n",
       "                                                   'PP_CAR'])])),\n",
       "                ('trf2',\n",
       "                 ColumnTransformer(transformers=[('scaler', StandardScaler(),\n",
       "                                                  slice(0, 15, None))])),\n",
       "                ('over', SMOTE(k_neighbors=6, sampling_strategy=0.1)),\n",
       "                ('under', RandomUnderSampler(sampling_strategy=0.2)),\n",
       "                ('trf3', LGBMClassifier())])"
      ]
     },
     "execution_count": 30,
     "metadata": {},
     "output_type": "execute_result"
    }
   ],
   "source": [
    "over = SMOTE(sampling_strategy=0.1, k_neighbors=6)\n",
    "under = RandomUnderSampler(sampling_strategy=0.2)\n",
    "steps = [('trf1', trf1),('trf2', trf2), \n",
    "         ('over', over), ('under', under), ('trf3', trf3)]\n",
    "modelo = Pipeline(steps=steps)\n",
    "modelo.fit(final_X_train, y_train)"
   ]
  },
  {
   "cell_type": "code",
   "execution_count": 31,
   "id": "b8b8c672-0430-44f7-8a19-c112256b15bc",
   "metadata": {},
   "outputs": [
    {
     "name": "stdout",
     "output_type": "stream",
     "text": [
      "ROC-AUC score of the model: 0.7553010249334864\n",
      "Accuracy of the model: 0.9750298643179346\n",
      "\n",
      "Classification report: \n",
      "              precision    recall  f1-score   support\n",
      "\n",
      "           0       0.99      0.99      0.99    773779\n",
      "           1       0.08      0.07      0.07     11439\n",
      "\n",
      "    accuracy                           0.98    785218\n",
      "   macro avg       0.53      0.53      0.53    785218\n",
      "weighted avg       0.97      0.98      0.97    785218\n",
      "\n",
      "\n",
      "Confusion matrix: \n",
      "[[764846   8933]\n",
      " [ 10674    765]]\n",
      "\n"
     ]
    }
   ],
   "source": [
    "lgb_pred = modelo.predict(X_test)\n",
    "lgb_pred_proba = modelo.predict_proba(X_test)\n",
    "evaluate_model(y_test, lgb_pred, lgb_pred_proba)"
   ]
  },
  {
   "cell_type": "markdown",
   "id": "f7f8b8cc-eede-4056-846b-505f30a52ad8",
   "metadata": {},
   "source": [
    "Se observa como el modelo ha perdido algo de precisión en cuanto al acierto de casos positivos. Sin embargo, en este caso, vamos a valorar más el trabajar con un modelo de dimensiones reducidas y trataremos de recuperar un cierto grado de precisión gracias a la optimización del modelo mediante la búsqueda de los hiperparámetros que mejor resultado nos den."
   ]
  },
  {
   "cell_type": "markdown",
   "id": "a5d2a870-d869-451c-bb49-e188c3b5d879",
   "metadata": {},
   "source": [
    "### Busqueda de hiperparámetros"
   ]
  },
  {
   "cell_type": "code",
   "execution_count": 32,
   "id": "02703a46-f7c8-4c9c-969d-29665b76863e",
   "metadata": {},
   "outputs": [
    {
     "name": "stdout",
     "output_type": "stream",
     "text": [
      "0.08034564151147282\n"
     ]
    }
   ],
   "source": [
    "params = {'trf3__n_estimators': [100, 500, 1000],\n",
    "    'trf3__class_weight': [{0: 0.1, 1:0.9}, {0: 0.2, 1:0.8}], #aqui le digo que compruebe con dos diferentes pesos para las clases\n",
    "    'trf3__num_leaves': [31, 50]}\n",
    "\n",
    "grid = GridSearchCV(modelo, params, cv=4, scoring='f1')\n",
    "grid.fit(final_X_train, y_train)\n",
    "\n",
    "print(grid.best_score_)"
   ]
  },
  {
   "cell_type": "code",
   "execution_count": 33,
   "id": "35b610be-36b4-4dcb-8d68-1ea8bb3ff8fd",
   "metadata": {},
   "outputs": [
    {
     "name": "stdout",
     "output_type": "stream",
     "text": [
      "{'trf3__class_weight': {0: 0.2, 1: 0.8}, 'trf3__n_estimators': 1000, 'trf3__num_leaves': 50}\n"
     ]
    }
   ],
   "source": [
    "print(grid.best_params_)"
   ]
  },
  {
   "cell_type": "code",
   "execution_count": 34,
   "id": "49b5b0da-754d-493c-a224-2dc439d5b898",
   "metadata": {},
   "outputs": [],
   "source": [
    "#guardamos los parametros en una nueva variable\n",
    "parametros={'class_weight': {0: 0.2, 1: 0.8}, 'n_estimators': 500, 'num_leaves': 50}"
   ]
  },
  {
   "cell_type": "code",
   "execution_count": 35,
   "id": "432f5f7a-f018-4524-acdc-cf99a1df6655",
   "metadata": {},
   "outputs": [],
   "source": [
    "#3rd Model\n",
    "trf3 = lgbm.LGBMClassifier(**parametros)"
   ]
  },
  {
   "cell_type": "code",
   "execution_count": 36,
   "id": "61619875-8a8e-44bf-a8d9-2631c6bda8f7",
   "metadata": {},
   "outputs": [
    {
     "data": {
      "text/plain": [
       "Pipeline(steps=[('trf1',\n",
       "                 ColumnTransformer(transformers=[('catboost', CatBoostEncoder(),\n",
       "                                                  ['C_MNTH', 'C_WDAY', 'C_HOUR',\n",
       "                                                   'C_WTHR', 'C_RALN', 'C_TRAF',\n",
       "                                                   'V_TYPE', 'P_SEX',\n",
       "                                                   'PP_CAR'])])),\n",
       "                ('trf2',\n",
       "                 ColumnTransformer(transformers=[('scaler', StandardScaler(),\n",
       "                                                  slice(0, 15, None))])),\n",
       "                ('over', SMOTE(k_neighbors=6, sampling_strategy=0.1)),\n",
       "                ('under', RandomUnderSampler(sampling_strategy=0.2)),\n",
       "                ('trf3',\n",
       "                 LGBMClassifier(class_weight={0: 0.2, 1: 0.8}, n_estimators=500,\n",
       "                                num_leaves=50))])"
      ]
     },
     "execution_count": 36,
     "metadata": {},
     "output_type": "execute_result"
    }
   ],
   "source": [
    "over = SMOTE(sampling_strategy=0.1, k_neighbors=6)\n",
    "under = RandomUnderSampler(sampling_strategy=0.2)\n",
    "steps = [('trf1', trf1),('trf2', trf2), \n",
    "         ('over', over), ('under', under), ('trf3', trf3)]\n",
    "modelo = Pipeline(steps=steps)\n",
    "modelo.fit(final_X_train, y_train)"
   ]
  },
  {
   "cell_type": "code",
   "execution_count": 37,
   "id": "9e7e746c-9bb3-43f6-a419-35271bf19c72",
   "metadata": {},
   "outputs": [
    {
     "name": "stdout",
     "output_type": "stream",
     "text": [
      "ROC-AUC score of the model: 0.7550254525792247\n",
      "Accuracy of the model: 0.9118512311230766\n",
      "\n",
      "Classification report: \n",
      "              precision    recall  f1-score   support\n",
      "\n",
      "           0       0.99      0.92      0.95    773779\n",
      "           1       0.05      0.28      0.09     11439\n",
      "\n",
      "    accuracy                           0.91    785218\n",
      "   macro avg       0.52      0.60      0.52    785218\n",
      "weighted avg       0.97      0.91      0.94    785218\n",
      "\n",
      "\n",
      "Confusion matrix: \n",
      "[[712777  61002]\n",
      " [  8214   3225]]\n",
      "\n"
     ]
    }
   ],
   "source": [
    "lgb_pred = modelo.predict(X_test)\n",
    "lgb_pred_proba = modelo.predict_proba(X_test)\n",
    "evaluate_model(y_test, lgb_pred, lgb_pred_proba)"
   ]
  },
  {
   "cell_type": "markdown",
   "id": "e4206426-278a-4c08-b172-4ed1c3de6374",
   "metadata": {},
   "source": [
    "El modelo optimizado y entrenado con las variables seleccionadas por la técnica Ridge, lejos de ser perfecto en cuanto a la f1 para la clase minoritaria, permite que nos hagamos una idea de los casos globales en los que se puede esperar alguna fatalidad dado un accidente. En este sentido, conseguiríamos el objetivo de tener una base científica para el calculo del capital necesario que las empresas aseguradoras tienen que reservar para casos donde se requiera indemnización por fallecimiento. "
   ]
  },
  {
   "cell_type": "markdown",
   "id": "04e8748b-bc67-48b3-929a-09e4f0ea0974",
   "metadata": {},
   "source": [
    "### Guardamos el modelo entrenado para su posterior utilización"
   ]
  },
  {
   "cell_type": "code",
   "execution_count": 39,
   "id": "28a5d7cf-4422-46e9-b1f9-bce68fbdb364",
   "metadata": {},
   "outputs": [],
   "source": [
    "#me guardo el modelo entrenado para su posterior utilización\n",
    "with open('model_flask.pickle', 'wb') as f:\n",
    "    pickle.dump(modelo, f)"
   ]
  },
  {
   "cell_type": "code",
   "execution_count": 20,
   "id": "b613bc3a-1136-4777-b190-0ca4a272eb79",
   "metadata": {},
   "outputs": [],
   "source": [
    "#para traer de nuevo el modelo:\n",
    "#with open('model_flask.pickle', 'rb') as f:\n",
    "    #modelo = pickle.load(f)"
   ]
  },
  {
   "cell_type": "code",
   "execution_count": null,
   "id": "2d164bbf-1533-4bca-b4eb-fe93a816b446",
   "metadata": {},
   "outputs": [],
   "source": []
  }
 ],
 "metadata": {
  "kernelspec": {
   "display_name": "Python [conda env:practica_ml]",
   "language": "python",
   "name": "conda-env-practica_ml-py"
  },
  "language_info": {
   "codemirror_mode": {
    "name": "ipython",
    "version": 3
   },
   "file_extension": ".py",
   "mimetype": "text/x-python",
   "name": "python",
   "nbconvert_exporter": "python",
   "pygments_lexer": "ipython3",
   "version": "3.9.7"
  }
 },
 "nbformat": 4,
 "nbformat_minor": 5
}
